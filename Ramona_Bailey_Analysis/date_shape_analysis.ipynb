{
 "cells": [
  {
   "cell_type": "code",
   "execution_count": 67,
   "id": "2f85859a-42cd-452d-ba13-9f4f219c6dc3",
   "metadata": {},
   "outputs": [],
   "source": [
    "import pandas as pd\n",
    "import matplotlib.pyplot as plt\n",
    "import numpy as np\n",
    "import scipy.stats as st\n"
   ]
  },
  {
   "cell_type": "code",
   "execution_count": 68,
   "id": "e378d9ac-eb29-4027-9068-8abeb56e10b5",
   "metadata": {},
   "outputs": [
    {
     "data": {
      "text/plain": [
       "0        3/21/2020\n",
       "1         4/5/1955\n",
       "2         6/6/2001\n",
       "3        4/14/1952\n",
       "4        2/21/2007\n",
       "           ...    \n",
       "54937    6/26/2008\n",
       "54938    4/18/1983\n",
       "54939    4/19/1953\n",
       "54940     4/7/2008\n",
       "54941    4/16/1983\n",
       "Name: Occurred, Length: 54942, dtype: object"
      ]
     },
     "execution_count": 68,
     "metadata": {},
     "output_type": "execute_result"
    }
   ],
   "source": [
    "uap_df = pd.read_csv('UAP_Data/working/uap_data_output_all.csv')\n",
    "dates = uap_df['Occurred']\n",
    "dates"
   ]
  },
  {
   "cell_type": "code",
   "execution_count": 69,
   "id": "1973bcd6-f96e-44c7-a48c-41cddfd119e7",
   "metadata": {},
   "outputs": [
    {
     "data": {
      "text/plain": [
       "0        2020\n",
       "1        1955\n",
       "2        2001\n",
       "3        1952\n",
       "4        2007\n",
       "         ... \n",
       "54937    2008\n",
       "54938    1983\n",
       "54939    1953\n",
       "54940    2008\n",
       "54941    1983\n",
       "Name: Year Occurred, Length: 54942, dtype: int32"
      ]
     },
     "execution_count": 69,
     "metadata": {},
     "output_type": "execute_result"
    }
   ],
   "source": [
    "uap_df['Occurred'] = pd.to_datetime(uap_df['Occurred'])\n",
    "uap_df['Year Occurred'] = uap_df['Occurred'].dt.year\n",
    "year = uap_df['Year Occurred']\n",
    "year"
   ]
  },
  {
   "cell_type": "code",
   "execution_count": 70,
   "id": "69c7c4d4-42e9-4fa4-98fa-255b9a46460a",
   "metadata": {},
   "outputs": [
    {
     "name": "stdout",
     "output_type": "stream",
     "text": [
      "1996.2339740089549 2004.0 ModeResult(mode=2020, count=2946)\n"
     ]
    }
   ],
   "source": [
    "mean_year = np.mean(year)\n",
    "median_year = np.median(year)\n",
    "mode_year = st.mode(year)\n",
    "print(mean_year, median_year, mode_year)"
   ]
  },
  {
   "cell_type": "code",
   "execution_count": 71,
   "id": "89f2bba5-ff20-41df-9f2f-7f180ab89452",
   "metadata": {},
   "outputs": [
    {
     "data": {
      "image/png": "[encoded data removed]",
      "text/plain": [
       "<Figure size 640x480 with 1 Axes>"
      ]
     },
     "metadata": {},
     "output_type": "display_data"
    }
   ],
   "source": [
    "plt.hist(year)\n",
    "plt.xlabel(\"Year of Occurrance\")\n",
    "plt.title('UAP Sightings by Year')\n",
    "plt.show()"
   ]
  },
  {
   "cell_type": "code",
   "execution_count": 72,
   "id": "ccc08fd3-2b3a-4b2c-98a1-bd03f6725c74",
   "metadata": {},
   "outputs": [
    {
     "data": {
      "text/plain": [
       "0        Formation\n",
       "1            Flash\n",
       "2            Cigar\n",
       "3           Circle\n",
       "4            Light\n",
       "           ...    \n",
       "54937        Light\n",
       "54938     Triangle\n",
       "54939     Changing\n",
       "54940          Orb\n",
       "54941        Light\n",
       "Name: Shape, Length: 54942, dtype: object"
      ]
     },
     "execution_count": 72,
     "metadata": {},
     "output_type": "execute_result"
    }
   ],
   "source": [
    "shapes = uap_df['Shape']\n",
    "shapes\n"
   ]
  },
  {
   "cell_type": "code",
   "execution_count": 73,
   "id": "3f1e580a-b410-4db2-8deb-cd182c439e95",
   "metadata": {},
   "outputs": [
    {
     "data": {
      "text/plain": [
       "Shape\n",
       "Light        11501\n",
       "Circle        5927\n",
       "Triangle      5655\n",
       "Fireball      4202\n",
       "Other         4109\n",
       "Disk          3427\n",
       "Sphere        3062\n",
       "Orb           2704\n",
       "Oval          2686\n",
       "Formation     2043\n",
       "Changing      1649\n",
       "Cigar         1550\n",
       "Rectangle     1075\n",
       "Cylinder      1069\n",
       "Flash         1059\n",
       "Diamond        842\n",
       "Chevron        744\n",
       "Teardrop       504\n",
       "Egg            491\n",
       "Cone           241\n",
       "Cross          229\n",
       "Star            90\n",
       "light           31\n",
       "Cube            22\n",
       "triangle        10\n",
       "other            8\n",
       "cigar            3\n",
       "circle           2\n",
       "sphere           2\n",
       "cylinder         1\n",
       "rectangle        1\n",
       "changing         1\n",
       "flash            1\n",
       "fireball         1\n",
       "Name: count, dtype: int64"
      ]
     },
     "execution_count": 73,
     "metadata": {},
     "output_type": "execute_result"
    }
   ],
   "source": [
    "shape_count = shapes.value_counts()\n",
    "shape_count"
   ]
  },
  {
   "cell_type": "code",
   "execution_count": 74,
   "id": "72584c2a-79b5-45b1-a8a4-dee4adbe2b87",
   "metadata": {},
   "outputs": [
    {
     "data": {
      "text/plain": [
       "Year Occurred\n",
       "2020    2946\n",
       "2019    2549\n",
       "2008    2345\n",
       "2022    1995\n",
       "2007    1995\n",
       "        ... \n",
       "2014     184\n",
       "1957     182\n",
       "1925       1\n",
       "1917       1\n",
       "1905       1\n",
       "Name: count, Length: 103, dtype: int64"
      ]
     },
     "execution_count": 74,
     "metadata": {},
     "output_type": "execute_result"
    }
   ],
   "source": [
    "year_count = year.value_counts()\n",
    "year_count"
   ]
  },
  {
   "cell_type": "code",
   "execution_count": 75,
   "id": "b6ef1891-fc33-4837-8a52-c052ab1c9331",
   "metadata": {},
   "outputs": [
    {
     "data": {
      "text/html": [
       "<div>\n",
       "<style scoped>\n",
       "    .dataframe tbody tr th:only-of-type {\n",
       "        vertical-align: middle;\n",
       "    }\n",
       "\n",
       "    .dataframe tbody tr th {\n",
       "        vertical-align: top;\n",
       "    }\n",
       "\n",
       "    .dataframe thead th {\n",
       "        text-align: right;\n",
       "    }\n",
       "</style>\n",
       "<table border=\"1\" class=\"dataframe\">\n",
       "  <thead>\n",
       "    <tr style=\"text-align: right;\">\n",
       "      <th></th>\n",
       "      <th>Year Occurred</th>\n",
       "      <th>Shape</th>\n",
       "    </tr>\n",
       "  </thead>\n",
       "  <tbody>\n",
       "    <tr>\n",
       "      <th>0</th>\n",
       "      <td>2020</td>\n",
       "      <td>Formation</td>\n",
       "    </tr>\n",
       "    <tr>\n",
       "      <th>1</th>\n",
       "      <td>1955</td>\n",
       "      <td>Flash</td>\n",
       "    </tr>\n",
       "    <tr>\n",
       "      <th>2</th>\n",
       "      <td>2001</td>\n",
       "      <td>Cigar</td>\n",
       "    </tr>\n",
       "    <tr>\n",
       "      <th>3</th>\n",
       "      <td>1952</td>\n",
       "      <td>Circle</td>\n",
       "    </tr>\n",
       "    <tr>\n",
       "      <th>4</th>\n",
       "      <td>2007</td>\n",
       "      <td>Light</td>\n",
       "    </tr>\n",
       "    <tr>\n",
       "      <th>...</th>\n",
       "      <td>...</td>\n",
       "      <td>...</td>\n",
       "    </tr>\n",
       "    <tr>\n",
       "      <th>54937</th>\n",
       "      <td>2008</td>\n",
       "      <td>Light</td>\n",
       "    </tr>\n",
       "    <tr>\n",
       "      <th>54938</th>\n",
       "      <td>1983</td>\n",
       "      <td>Triangle</td>\n",
       "    </tr>\n",
       "    <tr>\n",
       "      <th>54939</th>\n",
       "      <td>1953</td>\n",
       "      <td>Changing</td>\n",
       "    </tr>\n",
       "    <tr>\n",
       "      <th>54940</th>\n",
       "      <td>2008</td>\n",
       "      <td>Orb</td>\n",
       "    </tr>\n",
       "    <tr>\n",
       "      <th>54941</th>\n",
       "      <td>1983</td>\n",
       "      <td>Light</td>\n",
       "    </tr>\n",
       "  </tbody>\n",
       "</table>\n",
       "<p>54942 rows × 2 columns</p>\n",
       "</div>"
      ],
      "text/plain": [
       "       Year Occurred      Shape\n",
       "0               2020  Formation\n",
       "1               1955      Flash\n",
       "2               2001      Cigar\n",
       "3               1952     Circle\n",
       "4               2007      Light\n",
       "...              ...        ...\n",
       "54937           2008      Light\n",
       "54938           1983   Triangle\n",
       "54939           1953   Changing\n",
       "54940           2008        Orb\n",
       "54941           1983      Light\n",
       "\n",
       "[54942 rows x 2 columns]"
      ]
     },
     "execution_count": 75,
     "metadata": {},
     "output_type": "execute_result"
    }
   ],
   "source": [
    "df = uap_df[['Year Occurred', 'Shape']]\n",
    "df"
   ]
  },
  {
   "cell_type": "code",
   "execution_count": 76,
   "id": "6a0ec643-4a4c-4abd-9c10-89c6d8a12e74",
   "metadata": {},
   "outputs": [
    {
     "data": {
      "image/png": "[encoded data removed]",
      "text/plain": [
       "<Figure size 640x480 with 1 Axes>"
      ]
     },
     "metadata": {},
     "output_type": "display_data"
    }
   ],
   "source": [
    "min_count = 50\n",
    "shape_count.sort_values().plot(kind = 'barh', title = 'UAP Shapes')\n",
    "plt.tight_layout()"
   ]
  },
  {
   "cell_type": "code",
   "execution_count": null,
   "id": "f3d0d9c1-f125-4576-80ac-7a6718059d4f",
   "metadata": {},
   "outputs": [],
   "source": []
  }
 ],
 "metadata": {
  "kernelspec": {
   "display_name": "Python 3 (ipykernel)",
   "language": "python",
   "name": "python3"
  },
  "language_info": {
   "codemirror_mode": {
    "name": "ipython",
    "version": 3
   },
   "file_extension": ".py",
   "mimetype": "text/x-python",
   "name": "python",
   "nbconvert_exporter": "python",
   "pygments_lexer": "ipython3",
   "version": "3.10.14"
  }
 },
 "nbformat": 4,
 "nbformat_minor": 5
}
